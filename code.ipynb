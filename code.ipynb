{
 "cells": [
  {
   "cell_type": "code",
   "execution_count": 4,
   "metadata": {},
   "outputs": [],
   "source": [
    "import numpy as np\n",
    "\n",
    "def leaving_one_out_classification(data, current_feats, feat_to_add, option):\n",
    "    num_correct = 0\n",
    "\n",
    "    updated_feats = current_feats + [feat_to_add] if option == 1 else [f for f in current_feats if f != feat_to_add]\n",
    "\n",
    "    data_array = np.array(data)\n",
    "    num_instances = len(data_array)\n",
    "    features_array = data_array[:, updated_feats]\n",
    "    labels_array = data_array[:, 0]\n",
    "\n",
    "    for i in range(num_instances):\n",
    "        test_feats = features_array[i]\n",
    "        test_label = labels_array[i]\n",
    "        train_feats = np.delete(features_array, i, axis=0)\n",
    "        train_labels = np.delete(labels_array, i)\n",
    "\n",
    "        distances = np.sqrt(np.sum(np.square(train_feats - test_feats), axis=1))\n",
    "        nearest_neighbor_index = np.argmin(distances)\n",
    "        nearest_neighbor_label = train_labels[nearest_neighbor_index]\n",
    "\n",
    "        if test_label == nearest_neighbor_label:\n",
    "            num_correct += 1\n",
    "\n",
    "    accuracy = num_correct / num_instances\n",
    "    return accuracy\n"
   ]
  },
  {
   "cell_type": "code",
   "execution_count": 5,
   "metadata": {},
   "outputs": [
    {
     "name": "stdout",
     "output_type": "stream",
     "text": [
      "Accuracy: 1.0\n"
     ]
    }
   ],
   "source": [
    "# Example test data\n",
    "test_data = [\n",
    "    [1, 0.5, 0.2, 1],\n",
    "    [2, 0.3, 0.4, 0],\n",
    "    [1, 0.7, 0.8, 1],\n",
    "    [2, 0.1, 0.9, 0],\n",
    "    [1, 0.6, 0.3, 1],\n",
    "    [2, 0.2, 0.7, 0]\n",
    "]\n",
    "\n",
    "# Example features and choices\n",
    "current_features = [1, 2]\n",
    "feature_to_add = 3\n",
    "choice = 1\n",
    "\n",
    "# Call the leaving_one_out_classification function\n",
    "accuracy = leaving_one_out_classification(test_data, current_features, feature_to_add, choice)\n",
    "\n",
    "# Print the accuracy\n",
    "print(\"Accuracy:\", accuracy)"
   ]
  }
 ],
 "metadata": {
  "kernelspec": {
   "display_name": "Python 3",
   "language": "python",
   "name": "python3"
  },
  "language_info": {
   "codemirror_mode": {
    "name": "ipython",
    "version": 3
   },
   "file_extension": ".py",
   "mimetype": "text/x-python",
   "name": "python",
   "nbconvert_exporter": "python",
   "pygments_lexer": "ipython3",
   "version": "3.10.11"
  },
  "orig_nbformat": 4
 },
 "nbformat": 4,
 "nbformat_minor": 2
}

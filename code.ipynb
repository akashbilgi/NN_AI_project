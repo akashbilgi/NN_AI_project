{
 "cells": [
  {
   "cell_type": "code",
   "execution_count": 4,
   "metadata": {},
   "outputs": [],
   "source": [
    "import numpy as np\n",
    "\n",
    "def leaving_one_out_classification(data, current_feats, feat_to_add, option):\n",
    "    num_correct = 0\n",
    "\n",
    "    updated_feats = current_feats + [feat_to_add] if option == 1 else [f for f in current_feats if f != feat_to_add]\n",
    "\n",
    "    data_array = np.array(data)\n",
    "    num_instances = len(data_array)\n",
    "    features_array = data_array[:, updated_feats]\n",
    "    labels_array = data_array[:, 0]\n",
    "\n",
    "    for i in range(num_instances):\n",
    "        test_feats = features_array[i]\n",
    "        test_label = labels_array[i]\n",
    "        train_feats = np.delete(features_array, i, axis=0)\n",
    "        train_labels = np.delete(labels_array, i)\n",
    "\n",
    "        distances = np.sqrt(np.sum(np.square(train_feats - test_feats), axis=1))\n",
    "        nearest_neighbor_index = np.argmin(distances)\n",
    "        nearest_neighbor_label = train_labels[nearest_neighbor_index]\n",
    "\n",
    "        if test_label == nearest_neighbor_label:\n",
    "            num_correct += 1\n",
    "\n",
    "    accuracy = num_correct / num_instances\n",
    "    return accuracy\n"
   ]
  },
  {
   "cell_type": "code",
   "execution_count": 5,
   "metadata": {},
   "outputs": [
    {
     "name": "stdout",
     "output_type": "stream",
     "text": [
      "Accuracy: 1.0\n"
     ]
    }
   ],
   "source": [
    "# Example test data\n",
    "test_data = [\n",
    "    [1, 0.5, 0.2, 1],\n",
    "    [2, 0.3, 0.4, 0],\n",
    "    [1, 0.7, 0.8, 1],\n",
    "    [2, 0.1, 0.9, 0],\n",
    "    [1, 0.6, 0.3, 1],\n",
    "    [2, 0.2, 0.7, 0]\n",
    "]\n",
    "\n",
    "# Example features and choices\n",
    "current_features = [1, 2]\n",
    "feature_to_add = 3\n",
    "choice = 1\n",
    "\n",
    "# Call the leaving_one_out_classification function\n",
    "accuracy = leaving_one_out_classification(test_data, current_features, feature_to_add, choice)\n",
    "\n",
    "# Print the accuracy\n",
    "print(\"Accuracy:\", accuracy)"
   ]
  },
  {
   "cell_type": "code",
   "execution_count": 6,
   "metadata": {},
   "outputs": [],
   "source": [
    "def forward_selection(data, option):\n",
    "    selected_feats, best_feats = [], []\n",
    "    num_feats, best_accuracy = len(data[0]), 0\n",
    "\n",
    "    for level in range(1, num_feats):\n",
    "        feat_to_add = None\n",
    "        best_so_far_accuracy = 0\n",
    "\n",
    "        for feat in range(1, num_feats):\n",
    "            if feat not in selected_feats:\n",
    "                accuracy = leaving_one_out_classification(data, selected_feats, feat, option)\n",
    "\n",
    "                if accuracy > best_so_far_accuracy:\n",
    "                    best_so_far_accuracy = accuracy\n",
    "                    feat_to_add = feat\n",
    "\n",
    "        if feat_to_add is not None:\n",
    "            selected_feats.append(feat_to_add)\n",
    "\n",
    "        if best_so_far_accuracy > best_accuracy:\n",
    "            best_feats = selected_feats[:]\n",
    "            best_accuracy = best_so_far_accuracy\n",
    "\n",
    "    print(f\"Finished search! The best feature subset is {best_feats}, which has an accuracy of {best_accuracy}\")\n"
   ]
  },
  {
   "cell_type": "code",
   "execution_count": 7,
   "metadata": {},
   "outputs": [
    {
     "ename": "UFuncTypeError",
     "evalue": "ufunc 'subtract' did not contain a loop with signature matching types (dtype('<U11'), dtype('<U11')) -> None",
     "output_type": "error",
     "traceback": [
      "\u001b[1;31m---------------------------------------------------------------------------\u001b[0m",
      "\u001b[1;31mUFuncTypeError\u001b[0m                            Traceback (most recent call last)",
      "\u001b[1;32mc:\\Users\\akash\\OneDrive\\Desktop\\AI_projec2\\code.ipynb Cell 4\u001b[0m in \u001b[0;36m1\n\u001b[0;32m      <a href='vscode-notebook-cell:/c%3A/Users/akash/OneDrive/Desktop/AI_projec2/code.ipynb#W3sZmlsZQ%3D%3D?line=0'>1</a>\u001b[0m data \u001b[39m=\u001b[39m [\n\u001b[0;32m      <a href='vscode-notebook-cell:/c%3A/Users/akash/OneDrive/Desktop/AI_projec2/code.ipynb#W3sZmlsZQ%3D%3D?line=1'>2</a>\u001b[0m     [\u001b[39m1\u001b[39m, \u001b[39m2\u001b[39m, \u001b[39m3\u001b[39m, \u001b[39m4\u001b[39m, \u001b[39m5\u001b[39m, \u001b[39m6\u001b[39m, \u001b[39m7\u001b[39m, \u001b[39m8\u001b[39m, \u001b[39m9\u001b[39m, \u001b[39m10\u001b[39m, \u001b[39m'\u001b[39m\u001b[39mclass\u001b[39m\u001b[39m'\u001b[39m],\n\u001b[0;32m      <a href='vscode-notebook-cell:/c%3A/Users/akash/OneDrive/Desktop/AI_projec2/code.ipynb#W3sZmlsZQ%3D%3D?line=2'>3</a>\u001b[0m     [\u001b[39m1\u001b[39m, \u001b[39m1\u001b[39m, \u001b[39m1\u001b[39m, \u001b[39m1\u001b[39m, \u001b[39m1\u001b[39m, \u001b[39m1\u001b[39m, \u001b[39m1\u001b[39m, \u001b[39m1\u001b[39m, \u001b[39m1\u001b[39m, \u001b[39m1\u001b[39m, \u001b[39m'\u001b[39m\u001b[39mA\u001b[39m\u001b[39m'\u001b[39m],\n\u001b[1;32m   (...)\u001b[0m\n\u001b[0;32m     <a href='vscode-notebook-cell:/c%3A/Users/akash/OneDrive/Desktop/AI_projec2/code.ipynb#W3sZmlsZQ%3D%3D?line=11'>12</a>\u001b[0m     [\u001b[39m10\u001b[39m, \u001b[39m10\u001b[39m, \u001b[39m10\u001b[39m, \u001b[39m10\u001b[39m, \u001b[39m10\u001b[39m, \u001b[39m10\u001b[39m, \u001b[39m10\u001b[39m, \u001b[39m10\u001b[39m, \u001b[39m10\u001b[39m, \u001b[39m10\u001b[39m, \u001b[39m'\u001b[39m\u001b[39mB\u001b[39m\u001b[39m'\u001b[39m]\n\u001b[0;32m     <a href='vscode-notebook-cell:/c%3A/Users/akash/OneDrive/Desktop/AI_projec2/code.ipynb#W3sZmlsZQ%3D%3D?line=12'>13</a>\u001b[0m ]\n\u001b[1;32m---> <a href='vscode-notebook-cell:/c%3A/Users/akash/OneDrive/Desktop/AI_projec2/code.ipynb#W3sZmlsZQ%3D%3D?line=14'>15</a>\u001b[0m forward_selection(data, \u001b[39m\"\u001b[39;49m\u001b[39maccuracy\u001b[39;49m\u001b[39m\"\u001b[39;49m)\n",
      "\u001b[1;32mc:\\Users\\akash\\OneDrive\\Desktop\\AI_projec2\\code.ipynb Cell 4\u001b[0m in \u001b[0;36m1\n\u001b[0;32m      <a href='vscode-notebook-cell:/c%3A/Users/akash/OneDrive/Desktop/AI_projec2/code.ipynb#W3sZmlsZQ%3D%3D?line=8'>9</a>\u001b[0m \u001b[39mfor\u001b[39;00m feat \u001b[39min\u001b[39;00m \u001b[39mrange\u001b[39m(\u001b[39m1\u001b[39m, num_feats):\n\u001b[0;32m     <a href='vscode-notebook-cell:/c%3A/Users/akash/OneDrive/Desktop/AI_projec2/code.ipynb#W3sZmlsZQ%3D%3D?line=9'>10</a>\u001b[0m     \u001b[39mif\u001b[39;00m feat \u001b[39mnot\u001b[39;00m \u001b[39min\u001b[39;00m selected_feats:\n\u001b[1;32m---> <a href='vscode-notebook-cell:/c%3A/Users/akash/OneDrive/Desktop/AI_projec2/code.ipynb#W3sZmlsZQ%3D%3D?line=10'>11</a>\u001b[0m         accuracy \u001b[39m=\u001b[39m leaving_one_out_classification(data, selected_feats, feat, option)\n\u001b[0;32m     <a href='vscode-notebook-cell:/c%3A/Users/akash/OneDrive/Desktop/AI_projec2/code.ipynb#W3sZmlsZQ%3D%3D?line=12'>13</a>\u001b[0m         \u001b[39mif\u001b[39;00m accuracy \u001b[39m>\u001b[39m best_so_far_accuracy:\n\u001b[0;32m     <a href='vscode-notebook-cell:/c%3A/Users/akash/OneDrive/Desktop/AI_projec2/code.ipynb#W3sZmlsZQ%3D%3D?line=13'>14</a>\u001b[0m             best_so_far_accuracy \u001b[39m=\u001b[39m accuracy\n",
      "\u001b[1;32mc:\\Users\\akash\\OneDrive\\Desktop\\AI_projec2\\code.ipynb Cell 4\u001b[0m in \u001b[0;36m1\n\u001b[0;32m     <a href='vscode-notebook-cell:/c%3A/Users/akash/OneDrive/Desktop/AI_projec2/code.ipynb#W3sZmlsZQ%3D%3D?line=15'>16</a>\u001b[0m train_feats \u001b[39m=\u001b[39m np\u001b[39m.\u001b[39mdelete(features_array, i, axis\u001b[39m=\u001b[39m\u001b[39m0\u001b[39m)\n\u001b[0;32m     <a href='vscode-notebook-cell:/c%3A/Users/akash/OneDrive/Desktop/AI_projec2/code.ipynb#W3sZmlsZQ%3D%3D?line=16'>17</a>\u001b[0m train_labels \u001b[39m=\u001b[39m np\u001b[39m.\u001b[39mdelete(labels_array, i)\n\u001b[1;32m---> <a href='vscode-notebook-cell:/c%3A/Users/akash/OneDrive/Desktop/AI_projec2/code.ipynb#W3sZmlsZQ%3D%3D?line=18'>19</a>\u001b[0m distances \u001b[39m=\u001b[39m np\u001b[39m.\u001b[39msqrt(np\u001b[39m.\u001b[39msum(np\u001b[39m.\u001b[39msquare(train_feats \u001b[39m-\u001b[39;49m test_feats), axis\u001b[39m=\u001b[39m\u001b[39m1\u001b[39m))\n\u001b[0;32m     <a href='vscode-notebook-cell:/c%3A/Users/akash/OneDrive/Desktop/AI_projec2/code.ipynb#W3sZmlsZQ%3D%3D?line=19'>20</a>\u001b[0m nearest_neighbor_index \u001b[39m=\u001b[39m np\u001b[39m.\u001b[39margmin(distances)\n\u001b[0;32m     <a href='vscode-notebook-cell:/c%3A/Users/akash/OneDrive/Desktop/AI_projec2/code.ipynb#W3sZmlsZQ%3D%3D?line=20'>21</a>\u001b[0m nearest_neighbor_label \u001b[39m=\u001b[39m train_labels[nearest_neighbor_index]\n",
      "\u001b[1;31mUFuncTypeError\u001b[0m: ufunc 'subtract' did not contain a loop with signature matching types (dtype('<U11'), dtype('<U11')) -> None"
     ]
    }
   ],
   "source": [
    "data = [\n",
    "    [1, 2, 3, 4, 5, 6, 7, 8, 9, 10, 'class'],\n",
    "    [1, 1, 1, 1, 1, 1, 1, 1, 1, 1, 'A'],\n",
    "    [2, 2, 2, 2, 2, 2, 2, 2, 2, 2, 'B'],\n",
    "    [3, 3, 3, 3, 3, 3, 3, 3, 3, 3, 'A'],\n",
    "    [4, 4, 4, 4, 4, 4, 4, 4, 4, 4, 'B'],\n",
    "    [5, 5, 5, 5, 5, 5, 5, 5, 5, 5, 'A'],\n",
    "    [6, 6, 6, 6, 6, 6, 6, 6, 6, 6, 'B'],\n",
    "    [7, 7, 7, 7, 7, 7, 7, 7, 7, 7, 'A'],\n",
    "    [8, 8, 8, 8, 8, 8, 8, 8, 8, 8, 'B'],\n",
    "    [9, 9, 9, 9, 9, 9, 9, 9, 9, 9, 'A'],\n",
    "    [10, 10, 10, 10, 10, 10, 10, 10, 10, 10, 'B']\n",
    "]\n",
    "\n",
    "forward_selection(data, \"accuracy\")"
   ]
  },
  {
   "cell_type": "code",
   "execution_count": null,
   "metadata": {},
   "outputs": [],
   "source": []
  }
 ],
 "metadata": {
  "kernelspec": {
   "display_name": "Python 3",
   "language": "python",
   "name": "python3"
  },
  "language_info": {
   "codemirror_mode": {
    "name": "ipython",
    "version": 3
   },
   "file_extension": ".py",
   "mimetype": "text/x-python",
   "name": "python",
   "nbconvert_exporter": "python",
   "pygments_lexer": "ipython3",
   "version": "3.10.11"
  },
  "orig_nbformat": 4
 },
 "nbformat": 4,
 "nbformat_minor": 2
}

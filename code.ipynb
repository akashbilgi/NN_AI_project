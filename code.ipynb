{
 "cells": [
  {
   "cell_type": "code",
   "execution_count": null,
   "metadata": {},
   "outputs": [],
   "source": [
    "import numpy as np\n",
    "\n",
    "def leaving_one_out_classification(data, current_feats, feat_to_add, option):\n",
    "    num_correct = 0\n",
    "\n",
    "    updated_feats = current_feats + [feat_to_add] if option == 1 else [f for f in current_feats if f != feat_to_add]\n",
    "\n",
    "    data_array = np.array(data)\n",
    "    num_instances = len(data_array)\n",
    "    features_array = data_array[:, updated_feats]\n",
    "    labels_array = data_array[:, 0]\n",
    "\n",
    "    for i in range(num_instances):\n",
    "        test_feats = features_array[i]\n",
    "        test_label = labels_array[i]\n",
    "        train_feats = np.delete(features_array, i, axis=0)\n",
    "        train_labels = np.delete(labels_array, i)\n",
    "\n",
    "        distances = np.sqrt(np.sum(np.square(train_feats - test_feats), axis=1))\n",
    "        nearest_neighbor_index = np.argmin(distances)\n",
    "        nearest_neighbor_label = train_labels[nearest_neighbor_index]\n",
    "\n",
    "        if test_label == nearest_neighbor_label:\n",
    "            num_correct += 1\n",
    "\n",
    "    accuracy = num_correct / num_instances\n",
    "    return accuracy\n"
   ]
  },
  {
   "cell_type": "code",
   "execution_count": null,
   "metadata": {},
   "outputs": [],
   "source": []
  }
 ],
 "metadata": {
  "language_info": {
   "name": "python"
  },
  "orig_nbformat": 4
 },
 "nbformat": 4,
 "nbformat_minor": 2
}
